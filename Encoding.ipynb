{
 "cells": [
  {
   "cell_type": "markdown",
   "id": "e5db91b4",
   "metadata": {},
   "source": [
    "## Amplitude Encoding EEG signal data for Quantum Machine Learning"
   ]
  },
  {
   "cell_type": "markdown",
   "id": "ebe97e0e",
   "metadata": {},
   "source": [
    "Dataset Link: https://data.mendeley.com/v1/datasets/px9dpkssy8/draft?a=7140665d-a0f0-40b2-a9fd-a731d21b6222"
   ]
  },
  {
   "cell_type": "markdown",
   "id": "e2bd7223",
   "metadata": {},
   "source": [
    "### Note: Store the dataset folder containing all csv files for each subject in the same directory as this ipynb file."
   ]
  },
  {
   "cell_type": "code",
   "execution_count": 1,
   "id": "c924fb2e",
   "metadata": {},
   "outputs": [],
   "source": [
    "import pandas as pd\n",
    "import glob\n",
    "import numpy as np\n",
    "from qiskit import QuantumCircuit, Aer, execute\n",
    "import matplotlib.pyplot as plt\n",
    "%matplotlib inline"
   ]
  },
  {
   "cell_type": "code",
   "execution_count": 2,
   "id": "e286ef2d",
   "metadata": {},
   "outputs": [],
   "source": [
    "# Prepare the combined csv and save it in the same directory\n",
    "\n",
    "# Load the CSV filepaths into a list\n",
    "filepaths = glob.glob('dataset/subject*.csv')\n",
    "dfs = []\n",
    "for filepath in filepaths:\n",
    "    df = pd.read_csv(filepath, sep=';')\n",
    "    dfs.append(df)\n",
    "\n",
    "# Combine the dataframes into a single dataframe\n",
    "df = pd.concat(dfs, axis=0, ignore_index=True)\n",
    "\n",
    "# Save the preprocessed data to a new CSV file\n",
    "df.to_csv('combined_dataset.csv', index=False)"
   ]
  },
  {
   "cell_type": "code",
   "execution_count": 3,
   "id": "c545eb03",
   "metadata": {},
   "outputs": [
    {
     "data": {
      "text/html": [
       "<div>\n",
       "<style scoped>\n",
       "    .dataframe tbody tr th:only-of-type {\n",
       "        vertical-align: middle;\n",
       "    }\n",
       "\n",
       "    .dataframe tbody tr th {\n",
       "        vertical-align: top;\n",
       "    }\n",
       "\n",
       "    .dataframe thead th {\n",
       "        text-align: right;\n",
       "    }\n",
       "</style>\n",
       "<table border=\"1\" class=\"dataframe\">\n",
       "  <thead>\n",
       "    <tr style=\"text-align: right;\">\n",
       "      <th></th>\n",
       "      <th>F1</th>\n",
       "      <th>F2</th>\n",
       "      <th>F3</th>\n",
       "      <th>F4</th>\n",
       "    </tr>\n",
       "  </thead>\n",
       "  <tbody>\n",
       "    <tr>\n",
       "      <th>0</th>\n",
       "      <td>410</td>\n",
       "      <td>316</td>\n",
       "      <td>749</td>\n",
       "      <td>520</td>\n",
       "    </tr>\n",
       "    <tr>\n",
       "      <th>1</th>\n",
       "      <td>513</td>\n",
       "      <td>297</td>\n",
       "      <td>739</td>\n",
       "      <td>509</td>\n",
       "    </tr>\n",
       "    <tr>\n",
       "      <th>2</th>\n",
       "      <td>511</td>\n",
       "      <td>297</td>\n",
       "      <td>738</td>\n",
       "      <td>491</td>\n",
       "    </tr>\n",
       "    <tr>\n",
       "      <th>3</th>\n",
       "      <td>492</td>\n",
       "      <td>273</td>\n",
       "      <td>733</td>\n",
       "      <td>558</td>\n",
       "    </tr>\n",
       "    <tr>\n",
       "      <th>4</th>\n",
       "      <td>472</td>\n",
       "      <td>285</td>\n",
       "      <td>710</td>\n",
       "      <td>555</td>\n",
       "    </tr>\n",
       "    <tr>\n",
       "      <th>...</th>\n",
       "      <td>...</td>\n",
       "      <td>...</td>\n",
       "      <td>...</td>\n",
       "      <td>...</td>\n",
       "    </tr>\n",
       "    <tr>\n",
       "      <th>45051</th>\n",
       "      <td>507</td>\n",
       "      <td>546</td>\n",
       "      <td>475</td>\n",
       "      <td>470</td>\n",
       "    </tr>\n",
       "    <tr>\n",
       "      <th>45052</th>\n",
       "      <td>512</td>\n",
       "      <td>498</td>\n",
       "      <td>489</td>\n",
       "      <td>500</td>\n",
       "    </tr>\n",
       "    <tr>\n",
       "      <th>45053</th>\n",
       "      <td>519</td>\n",
       "      <td>507</td>\n",
       "      <td>462</td>\n",
       "      <td>513</td>\n",
       "    </tr>\n",
       "    <tr>\n",
       "      <th>45054</th>\n",
       "      <td>498</td>\n",
       "      <td>528</td>\n",
       "      <td>450</td>\n",
       "      <td>533</td>\n",
       "    </tr>\n",
       "    <tr>\n",
       "      <th>45055</th>\n",
       "      <td>475</td>\n",
       "      <td>553</td>\n",
       "      <td>480</td>\n",
       "      <td>519</td>\n",
       "    </tr>\n",
       "  </tbody>\n",
       "</table>\n",
       "<p>45056 rows × 4 columns</p>\n",
       "</div>"
      ],
      "text/plain": [
       "        F1   F2   F3   F4\n",
       "0      410  316  749  520\n",
       "1      513  297  739  509\n",
       "2      511  297  738  491\n",
       "3      492  273  733  558\n",
       "4      472  285  710  555\n",
       "...    ...  ...  ...  ...\n",
       "45051  507  546  475  470\n",
       "45052  512  498  489  500\n",
       "45053  519  507  462  513\n",
       "45054  498  528  450  533\n",
       "45055  475  553  480  519\n",
       "\n",
       "[45056 rows x 4 columns]"
      ]
     },
     "execution_count": 3,
     "metadata": {},
     "output_type": "execute_result"
    }
   ],
   "source": [
    "# Read the combined dataset csv\n",
    "\n",
    "df = pd.read_csv('combined_dataset.csv')\n",
    "df"
   ]
  },
  {
   "cell_type": "code",
   "execution_count": 4,
   "id": "7384d20b",
   "metadata": {},
   "outputs": [],
   "source": [
    "# Define the number of qubits based on the number of frequencies\n",
    "num_qubits = len(df.columns)"
   ]
  },
  {
   "cell_type": "code",
   "execution_count": 5,
   "id": "c62b6026",
   "metadata": {},
   "outputs": [],
   "source": [
    "# Normalize the data between -1 and 1\n",
    "df_normalized = (df - df.min()) / (df.max() - df.min())\n",
    "df_normalized = 2 * df_normalized - 1"
   ]
  },
  {
   "cell_type": "code",
   "execution_count": 9,
   "id": "c4c761b2",
   "metadata": {},
   "outputs": [],
   "source": [
    "# Create a quantum circuit with the specified number of qubits\n",
    "circuit = QuantumCircuit(num_qubits)"
   ]
  },
  {
   "cell_type": "code",
   "execution_count": 10,
   "id": "1e823e61",
   "metadata": {},
   "outputs": [],
   "source": [
    "# Iterate through the rows of the normalized data and encode each row onto the quantum circuit\n",
    "\n",
    "\n",
    "for i, row in df_normalized.iterrows():\n",
    "    for j, amplitude in enumerate(row):\n",
    "        # Apply the amplitude encoding to each qubit\n",
    "        circuit.ry(2 * np.arcsin(amplitude), j)\n",
    "    if i == 5:\n",
    "        break"
   ]
  },
  {
   "cell_type": "code",
   "execution_count": 11,
   "id": "e028953d",
   "metadata": {},
   "outputs": [
    {
     "data": {
      "image/png": "[encoded data removed]",
      "text/plain": [
       "<Figure size 705.552x367.889 with 1 Axes>"
      ]
     },
     "execution_count": 11,
     "metadata": {},
     "output_type": "execute_result"
    }
   ],
   "source": [
    "circuit.draw(output='mpl')"
   ]
  },
  {
   "cell_type": "code",
   "execution_count": null,
   "id": "b704ad96",
   "metadata": {},
   "outputs": [],
   "source": []
  },
  {
   "cell_type": "code",
   "execution_count": null,
   "id": "0658cac2",
   "metadata": {},
   "outputs": [],
   "source": []
  },
  {
   "cell_type": "code",
   "execution_count": null,
   "id": "9c7ca44c",
   "metadata": {},
   "outputs": [],
   "source": []
  },
  {
   "cell_type": "code",
   "execution_count": null,
   "id": "25b0e5cc",
   "metadata": {},
   "outputs": [],
   "source": []
  },
  {
   "cell_type": "code",
   "execution_count": null,
   "id": "851a0fcc",
   "metadata": {},
   "outputs": [],
   "source": []
  }
 ],
 "metadata": {
  "kernelspec": {
   "display_name": "Python 3 (ipykernel)",
   "language": "python",
   "name": "python3"
  },
  "language_info": {
   "codemirror_mode": {
    "name": "ipython",
    "version": 3
   },
   "file_extension": ".py",
   "mimetype": "text/x-python",
   "name": "python",
   "nbconvert_exporter": "python",
   "pygments_lexer": "ipython3",
   "version": "3.9.13"
  }
 },
 "nbformat": 4,
 "nbformat_minor": 5
}

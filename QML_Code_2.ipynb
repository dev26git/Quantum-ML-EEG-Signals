{
 "cells": [
  {
   "cell_type": "code",
   "execution_count": 1,
   "id": "c0033ee0",
   "metadata": {},
   "outputs": [],
   "source": [
    "import matplotlib.pyplot as plt\n",
    "import numpy as np\n",
    "import pandas as pd\n",
    "\n",
    "from qiskit import BasicAer\n",
    "\n",
    "from qiskit.circuit.library import ZZFeatureMap\n",
    "from qiskit.utils import algorithm_globals, quantum_instance\n",
    "from qiskit_machine_learning.algorithms import QSVC\n",
    "from qiskit_machine_learning.kernels import TrainableFidelityQuantumKernel, BaseKernel\n",
    "from qiskit import Aer, QuantumCircuit"
   ]
  },
  {
   "cell_type": "code",
   "execution_count": 2,
   "id": "8b8866e7",
   "metadata": {},
   "outputs": [
    {
     "data": {
      "text/html": [
       "<div>\n",
       "<style scoped>\n",
       "    .dataframe tbody tr th:only-of-type {\n",
       "        vertical-align: middle;\n",
       "    }\n",
       "\n",
       "    .dataframe tbody tr th {\n",
       "        vertical-align: top;\n",
       "    }\n",
       "\n",
       "    .dataframe thead th {\n",
       "        text-align: right;\n",
       "    }\n",
       "</style>\n",
       "<table border=\"1\" class=\"dataframe\">\n",
       "  <thead>\n",
       "    <tr style=\"text-align: right;\">\n",
       "      <th></th>\n",
       "      <th>mean</th>\n",
       "      <th>variance</th>\n",
       "      <th>skewness</th>\n",
       "      <th>kurtosis</th>\n",
       "      <th>frequency</th>\n",
       "    </tr>\n",
       "  </thead>\n",
       "  <tbody>\n",
       "    <tr>\n",
       "      <th>0</th>\n",
       "      <td>0.522527</td>\n",
       "      <td>0.027656</td>\n",
       "      <td>0.539830</td>\n",
       "      <td>0.078714</td>\n",
       "      <td>0</td>\n",
       "    </tr>\n",
       "    <tr>\n",
       "      <th>1</th>\n",
       "      <td>0.695258</td>\n",
       "      <td>0.012871</td>\n",
       "      <td>0.459747</td>\n",
       "      <td>0.143217</td>\n",
       "      <td>0</td>\n",
       "    </tr>\n",
       "    <tr>\n",
       "      <th>2</th>\n",
       "      <td>0.810479</td>\n",
       "      <td>0.016648</td>\n",
       "      <td>0.717302</td>\n",
       "      <td>0.215619</td>\n",
       "      <td>0</td>\n",
       "    </tr>\n",
       "    <tr>\n",
       "      <th>3</th>\n",
       "      <td>0.696185</td>\n",
       "      <td>0.142455</td>\n",
       "      <td>0.609865</td>\n",
       "      <td>0.047672</td>\n",
       "      <td>0</td>\n",
       "    </tr>\n",
       "    <tr>\n",
       "      <th>4</th>\n",
       "      <td>0.625906</td>\n",
       "      <td>0.020161</td>\n",
       "      <td>0.371988</td>\n",
       "      <td>0.154119</td>\n",
       "      <td>0</td>\n",
       "    </tr>\n",
       "    <tr>\n",
       "      <th>...</th>\n",
       "      <td>...</td>\n",
       "      <td>...</td>\n",
       "      <td>...</td>\n",
       "      <td>...</td>\n",
       "      <td>...</td>\n",
       "    </tr>\n",
       "    <tr>\n",
       "      <th>699</th>\n",
       "      <td>0.535469</td>\n",
       "      <td>0.005455</td>\n",
       "      <td>0.603689</td>\n",
       "      <td>0.076917</td>\n",
       "      <td>3</td>\n",
       "    </tr>\n",
       "    <tr>\n",
       "      <th>700</th>\n",
       "      <td>0.541522</td>\n",
       "      <td>0.000272</td>\n",
       "      <td>0.500585</td>\n",
       "      <td>0.126371</td>\n",
       "      <td>3</td>\n",
       "    </tr>\n",
       "    <tr>\n",
       "      <th>701</th>\n",
       "      <td>0.578520</td>\n",
       "      <td>0.002821</td>\n",
       "      <td>0.578555</td>\n",
       "      <td>0.123725</td>\n",
       "      <td>3</td>\n",
       "    </tr>\n",
       "    <tr>\n",
       "      <th>702</th>\n",
       "      <td>0.493863</td>\n",
       "      <td>0.003348</td>\n",
       "      <td>0.558257</td>\n",
       "      <td>0.073942</td>\n",
       "      <td>3</td>\n",
       "    </tr>\n",
       "    <tr>\n",
       "      <th>703</th>\n",
       "      <td>0.510417</td>\n",
       "      <td>0.001528</td>\n",
       "      <td>0.458518</td>\n",
       "      <td>0.161521</td>\n",
       "      <td>3</td>\n",
       "    </tr>\n",
       "  </tbody>\n",
       "</table>\n",
       "<p>704 rows × 5 columns</p>\n",
       "</div>"
      ],
      "text/plain": [
       "         mean  variance  skewness  kurtosis  frequency\n",
       "0    0.522527  0.027656  0.539830  0.078714          0\n",
       "1    0.695258  0.012871  0.459747  0.143217          0\n",
       "2    0.810479  0.016648  0.717302  0.215619          0\n",
       "3    0.696185  0.142455  0.609865  0.047672          0\n",
       "4    0.625906  0.020161  0.371988  0.154119          0\n",
       "..        ...       ...       ...       ...        ...\n",
       "699  0.535469  0.005455  0.603689  0.076917          3\n",
       "700  0.541522  0.000272  0.500585  0.126371          3\n",
       "701  0.578520  0.002821  0.578555  0.123725          3\n",
       "702  0.493863  0.003348  0.558257  0.073942          3\n",
       "703  0.510417  0.001528  0.458518  0.161521          3\n",
       "\n",
       "[704 rows x 5 columns]"
      ]
     },
     "execution_count": 2,
     "metadata": {},
     "output_type": "execute_result"
    }
   ],
   "source": [
    "scaled_df = pd.read_csv('scaled_feature_df.csv')\n",
    "scaled_df"
   ]
  },
  {
   "cell_type": "code",
   "execution_count": 3,
   "id": "06f7e931",
   "metadata": {},
   "outputs": [],
   "source": [
    "from sklearn.model_selection import train_test_split\n",
    "\n",
    "X = scaled_df.drop(columns=[\"frequency\"]).values\n",
    "y = scaled_df[\"frequency\"].values\n",
    "\n",
    "\n",
    "X_train, X_test, y_train, y_test = train_test_split(X, y, test_size=0.20, random_state=0, stratify=y)"
   ]
  },
  {
   "cell_type": "code",
   "execution_count": null,
   "id": "051267b9",
   "metadata": {},
   "outputs": [],
   "source": [
    "from qiskit.circuit.library import ZZFeatureMap\n",
    "from qiskit.primitives import Sampler\n",
    "from qiskit.algorithms.state_fidelities import ComputeUncompute\n",
    "from qiskit_machine_learning.kernels import FidelityQuantumKernel\n",
    "\n",
    "# Build a feature map\n",
    "feature_map = ZZFeatureMap(feature_dimension=4, reps=2, entanglement=\"linear\")\n",
    "\n",
    "# Create a quantum kernel\n",
    "qkernel = FidelityQuantumKernel(feature_map=feature_map)"
   ]
  },
  {
   "cell_type": "code",
   "execution_count": null,
   "id": "64f406ee",
   "metadata": {},
   "outputs": [],
   "source": [
    "# Defining QSVC\n",
    "\n",
    "qsvc = QSVC(quantum_kernel=qkernel)"
   ]
  },
  {
   "cell_type": "code",
   "execution_count": 16,
   "id": "9a64c607",
   "metadata": {},
   "outputs": [
    {
     "name": "stdout",
     "output_type": "stream",
     "text": [
      "-737.422299861908\n"
     ]
    }
   ],
   "source": [
    "# Model Training\n",
    "\n",
    "import time\n",
    "start = time.time()\n",
    "\n",
    "qsvc.fit(X_train, y_train)\n",
    "\n",
    "print(start - time.time())"
   ]
  },
  {
   "cell_type": "code",
   "execution_count": null,
   "id": "42832d52",
   "metadata": {},
   "outputs": [],
   "source": [
    "eval_df = pd.DataFrame(columns=['predicted_label', 'true_label'])\n",
    "eval_df['predicted_label'] = qsvc.predict(X_test)\n",
    "eval_df['true_label'] = y_test"
   ]
  },
  {
   "cell_type": "code",
   "execution_count": 28,
   "id": "b76fd240",
   "metadata": {},
   "outputs": [
    {
     "data": {
      "text/plain": [
       "0.24822695035460993"
      ]
     },
     "execution_count": 28,
     "metadata": {},
     "output_type": "execute_result"
    }
   ],
   "source": [
    "from sklearn.metrics import accuracy_score\n",
    "\n",
    "accuracy = accuracy_score(y_test, eval_df['predicted_label'].values)\n",
    "accuracy"
   ]
  },
  {
   "cell_type": "code",
   "execution_count": null,
   "id": "b762fa43",
   "metadata": {},
   "outputs": [],
   "source": []
  },
  {
   "cell_type": "code",
   "execution_count": null,
   "id": "b7c849f2",
   "metadata": {},
   "outputs": [],
   "source": []
  },
  {
   "cell_type": "code",
   "execution_count": null,
   "id": "d230d167",
   "metadata": {},
   "outputs": [],
   "source": []
  },
  {
   "cell_type": "code",
   "execution_count": null,
   "id": "454bf6ea",
   "metadata": {},
   "outputs": [],
   "source": []
  },
  {
   "cell_type": "code",
   "execution_count": null,
   "id": "f129ab3a",
   "metadata": {},
   "outputs": [],
   "source": []
  },
  {
   "cell_type": "code",
   "execution_count": 15,
   "id": "3dad7df6",
   "metadata": {},
   "outputs": [],
   "source": [
    "# Angle encoding\n",
    "num_qubits = 4\n",
    "\n",
    "# Define the number of qubits based on the number of features\n",
    "num_qubits = len(X_train[0])\n",
    "\n",
    "# Create a quantum circuit with the specified number of qubits\n",
    "circuit = QuantumCircuit(num_qubits)\n",
    "\n",
    "for row in X_train:\n",
    "    for i, amplitude in enumerate(row):\n",
    "        # Apply the amplitude encoding to each qubit\n",
    "        circuit.ry(2 * np.arcsin(amplitude), i)"
   ]
  },
  {
   "cell_type": "code",
   "execution_count": null,
   "id": "82cfbb14",
   "metadata": {},
   "outputs": [],
   "source": []
  },
  {
   "cell_type": "code",
   "execution_count": null,
   "id": "c69ac5a8",
   "metadata": {},
   "outputs": [],
   "source": []
  },
  {
   "cell_type": "code",
   "execution_count": null,
   "id": "abbaff64",
   "metadata": {},
   "outputs": [],
   "source": []
  },
  {
   "cell_type": "code",
   "execution_count": 4,
   "id": "7461ee1a",
   "metadata": {},
   "outputs": [],
   "source": [
    "from qiskit.circuit.library import ZZFeatureMap\n",
    "from qiskit.primitives import Sampler\n",
    "from qiskit.algorithms.state_fidelities import ComputeUncompute\n",
    "from qiskit_machine_learning.kernels import FidelityQuantumKernel\n",
    "\n",
    "adhoc_feature_map = ZZFeatureMap(feature_dimension=4, reps=2, entanglement=\"linear\")\n",
    "\n",
    "adhoc_kernel = FidelityQuantumKernel(feature_map=adhoc_feature_map)"
   ]
  },
  {
   "cell_type": "code",
   "execution_count": 5,
   "id": "cfca86d5",
   "metadata": {},
   "outputs": [],
   "source": [
    "qsvc = QSVC(quantum_kernel=adhoc_kernel)"
   ]
  },
  {
   "cell_type": "code",
   "execution_count": 12,
   "id": "3b215efb",
   "metadata": {},
   "outputs": [],
   "source": [
    "train_times = []"
   ]
  },
  {
   "cell_type": "code",
   "execution_count": 14,
   "id": "03da213f",
   "metadata": {},
   "outputs": [
    {
     "name": "stdout",
     "output_type": "stream",
     "text": [
      "0.6654620170593262\n",
      "2.8072669506073\n",
      "11.793025970458984\n",
      "47.2485671043396\n",
      "195.8482551574707\n"
     ]
    }
   ],
   "source": [
    "import time\n",
    "\n",
    "for num_samples in [20, 40, 80, 160, 320]:\n",
    "    start = time.time()\n",
    "\n",
    "    qsvc.fit(X_train[:num_samples, :], y_train[:num_samples])\n",
    "    \n",
    "    train_time = time.time() - start\n",
    "    print(train_time)\n",
    "    train_times.append(train_time)"
   ]
  },
  {
   "cell_type": "code",
   "execution_count": 17,
   "id": "2680021a",
   "metadata": {},
   "outputs": [],
   "source": [
    "train_times.append(737.422299861908)"
   ]
  },
  {
   "cell_type": "code",
   "execution_count": 19,
   "id": "1f42feb0",
   "metadata": {},
   "outputs": [],
   "source": [
    "qsvc.save('/Users/sinner/Desktop/trained_QSVC.npz')"
   ]
  },
  {
   "cell_type": "code",
   "execution_count": null,
   "id": "ea290080",
   "metadata": {},
   "outputs": [],
   "source": []
  },
  {
   "cell_type": "code",
   "execution_count": 20,
   "id": "e9646c4c",
   "metadata": {},
   "outputs": [],
   "source": [
    "eval_df = pd.DataFrame(columns=['predicted_label', 'true_label'])"
   ]
  },
  {
   "cell_type": "code",
   "execution_count": 21,
   "id": "1579d0ef",
   "metadata": {},
   "outputs": [],
   "source": [
    "eval_df['predicted_label'] = qsvc.predict(X_test)"
   ]
  },
  {
   "cell_type": "code",
   "execution_count": 22,
   "id": "eb501012",
   "metadata": {},
   "outputs": [],
   "source": [
    "eval_df['true_label'] = y_test"
   ]
  },
  {
   "cell_type": "code",
   "execution_count": 23,
   "id": "d02cf807",
   "metadata": {},
   "outputs": [
    {
     "data": {
      "text/html": [
       "<div>\n",
       "<style scoped>\n",
       "    .dataframe tbody tr th:only-of-type {\n",
       "        vertical-align: middle;\n",
       "    }\n",
       "\n",
       "    .dataframe tbody tr th {\n",
       "        vertical-align: top;\n",
       "    }\n",
       "\n",
       "    .dataframe thead th {\n",
       "        text-align: right;\n",
       "    }\n",
       "</style>\n",
       "<table border=\"1\" class=\"dataframe\">\n",
       "  <thead>\n",
       "    <tr style=\"text-align: right;\">\n",
       "      <th></th>\n",
       "      <th>predicted_label</th>\n",
       "      <th>true_label</th>\n",
       "    </tr>\n",
       "  </thead>\n",
       "  <tbody>\n",
       "    <tr>\n",
       "      <th>0</th>\n",
       "      <td>2</td>\n",
       "      <td>3</td>\n",
       "    </tr>\n",
       "    <tr>\n",
       "      <th>1</th>\n",
       "      <td>2</td>\n",
       "      <td>1</td>\n",
       "    </tr>\n",
       "    <tr>\n",
       "      <th>2</th>\n",
       "      <td>1</td>\n",
       "      <td>1</td>\n",
       "    </tr>\n",
       "    <tr>\n",
       "      <th>3</th>\n",
       "      <td>1</td>\n",
       "      <td>3</td>\n",
       "    </tr>\n",
       "    <tr>\n",
       "      <th>4</th>\n",
       "      <td>2</td>\n",
       "      <td>3</td>\n",
       "    </tr>\n",
       "    <tr>\n",
       "      <th>...</th>\n",
       "      <td>...</td>\n",
       "      <td>...</td>\n",
       "    </tr>\n",
       "    <tr>\n",
       "      <th>136</th>\n",
       "      <td>1</td>\n",
       "      <td>0</td>\n",
       "    </tr>\n",
       "    <tr>\n",
       "      <th>137</th>\n",
       "      <td>0</td>\n",
       "      <td>3</td>\n",
       "    </tr>\n",
       "    <tr>\n",
       "      <th>138</th>\n",
       "      <td>1</td>\n",
       "      <td>0</td>\n",
       "    </tr>\n",
       "    <tr>\n",
       "      <th>139</th>\n",
       "      <td>2</td>\n",
       "      <td>3</td>\n",
       "    </tr>\n",
       "    <tr>\n",
       "      <th>140</th>\n",
       "      <td>3</td>\n",
       "      <td>1</td>\n",
       "    </tr>\n",
       "  </tbody>\n",
       "</table>\n",
       "<p>141 rows × 2 columns</p>\n",
       "</div>"
      ],
      "text/plain": [
       "     predicted_label  true_label\n",
       "0                  2           3\n",
       "1                  2           1\n",
       "2                  1           1\n",
       "3                  1           3\n",
       "4                  2           3\n",
       "..               ...         ...\n",
       "136                1           0\n",
       "137                0           3\n",
       "138                1           0\n",
       "139                2           3\n",
       "140                3           1\n",
       "\n",
       "[141 rows x 2 columns]"
      ]
     },
     "execution_count": 23,
     "metadata": {},
     "output_type": "execute_result"
    }
   ],
   "source": [
    "eval_df"
   ]
  },
  {
   "cell_type": "code",
   "execution_count": 24,
   "id": "20c5bff3",
   "metadata": {},
   "outputs": [],
   "source": [
    "from sklearn.metrics import accuracy_score\n",
    "\n",
    "accuracy = accuracy_score(eval_df['predicted_label'].values, y_test)"
   ]
  },
  {
   "cell_type": "code",
   "execution_count": 25,
   "id": "1ac132e8",
   "metadata": {},
   "outputs": [
    {
     "data": {
      "text/plain": [
       "0.24822695035460993"
      ]
     },
     "execution_count": 25,
     "metadata": {},
     "output_type": "execute_result"
    }
   ],
   "source": [
    "accuracy"
   ]
  },
  {
   "cell_type": "code",
   "execution_count": null,
   "id": "43237eb9",
   "metadata": {},
   "outputs": [],
   "source": []
  },
  {
   "cell_type": "code",
   "execution_count": null,
   "id": "bef50b91",
   "metadata": {},
   "outputs": [],
   "source": []
  },
  {
   "cell_type": "code",
   "execution_count": null,
   "id": "03608240",
   "metadata": {},
   "outputs": [],
   "source": []
  },
  {
   "cell_type": "code",
   "execution_count": null,
   "id": "64162250",
   "metadata": {},
   "outputs": [],
   "source": [
    "accuracy = accuracy_score(eval_df['predicted_label'].values, y_test)"
   ]
  },
  {
   "cell_type": "code",
   "execution_count": 31,
   "id": "9e2ed9cc",
   "metadata": {},
   "outputs": [],
   "source": [
    "loaded = QSVC.load('/Users/sinner/Desktop/trained_QSVC')"
   ]
  },
  {
   "cell_type": "code",
   "execution_count": null,
   "id": "ae066d92",
   "metadata": {},
   "outputs": [],
   "source": []
  },
  {
   "cell_type": "code",
   "execution_count": 32,
   "id": "dbd49574",
   "metadata": {},
   "outputs": [
    {
     "data": {
      "text/plain": [
       "array([2, 2, 1, 1, 2, 1, 3, 3, 3, 1])"
      ]
     },
     "execution_count": 32,
     "metadata": {},
     "output_type": "execute_result"
    }
   ],
   "source": [
    "loaded.predict(X_test[10])"
   ]
  },
  {
   "cell_type": "code",
   "execution_count": null,
   "id": "b6ae8c4c",
   "metadata": {},
   "outputs": [],
   "source": []
  },
  {
   "cell_type": "code",
   "execution_count": null,
   "id": "7beaaf97",
   "metadata": {},
   "outputs": [],
   "source": []
  },
  {
   "cell_type": "code",
   "execution_count": null,
   "id": "a908eb91",
   "metadata": {},
   "outputs": [],
   "source": []
  },
  {
   "cell_type": "code",
   "execution_count": null,
   "id": "4c9ace51",
   "metadata": {},
   "outputs": [],
   "source": []
  },
  {
   "cell_type": "code",
   "execution_count": null,
   "id": "d47245b4",
   "metadata": {},
   "outputs": [],
   "source": []
  },
  {
   "cell_type": "code",
   "execution_count": null,
   "id": "8daf6792",
   "metadata": {},
   "outputs": [],
   "source": []
  },
  {
   "cell_type": "markdown",
   "id": "730594f5",
   "metadata": {},
   "source": [
    "From https://qiskit.org/documentation/stable/0.24/tutorials/machine_learning/01_qsvm_classification.html"
   ]
  },
  {
   "cell_type": "code",
   "execution_count": 37,
   "id": "2ec27d12",
   "metadata": {},
   "outputs": [],
   "source": [
    "# import matplotlib.pyplot as plt\n",
    "# import numpy as np\n",
    "\n",
    "# from qiskit import BasicAer\n",
    "# from qiskit.circuit.library import ZZFeatureMap\n",
    "# from qiskit.aqua import QuantumInstance, aqua_globals\n",
    "# from qiskit.aqua.algorithms import QSVM\n",
    "# from qiskit.aqua.utils import split_dataset_to_data_and_labels, map_label_to_class_name\n",
    "\n",
    "# seed = 10599\n",
    "# aqua_globals.random_seed = seed\n",
    "\n",
    "# from qiskit_machine_learning.datasets import ad_hoc_data, sample_ad_hoc_data\n",
    "\n",
    "# feature_dim = 2\n",
    "# sample_total, training_input, test_input, class_labels = ad_hoc_data(\n",
    "#     training_size=20,\n",
    "#     test_size=10,\n",
    "#     n=feature_dim,\n",
    "#     gap=0.3,\n",
    "#     plot_data=True\n",
    "# )\n",
    "# extra_test_data = sample_ad_hoc_data(sample_total, 10, n=feature_dim)\n",
    "# datapoints, class_to_label = split_dataset_to_data_and_labels(extra_test_data)\n",
    "# print(class_to_label)\n",
    "\n",
    "# feature_map = ZZFeatureMap(feature_dimension=feature_dim, reps=2, entanglement='linear')\n",
    "# qsvm = QSVM(feature_map, training_input, test_input, datapoints[0])\n",
    "\n",
    "# backend = BasicAer.get_backend('qasm_simulator')\n",
    "# quantum_instance = QuantumInstance(backend, shots=1024, seed_simulator=seed, seed_transpiler=seed)\n",
    "\n",
    "# result = qsvm.run(quantum_instance)\n",
    "\n",
    "# print(f'Testing success ratio: {result[\"testing_accuracy\"]}')\n",
    "# print()\n",
    "# print('Prediction from datapoints set:')\n",
    "# print(f'  ground truth: {map_label_to_class_name(datapoints[1], qsvm.label_to_class)}')\n",
    "# print(f'  prediction:   {result[\"predicted_classes\"]}')\n",
    "# predicted_labels = result[\"predicted_labels\"]\n",
    "# print(f'  success rate: {100*np.count_nonzero(predicted_labels == datapoints[1])/len(predicted_labels)}%')"
   ]
  },
  {
   "cell_type": "markdown",
   "id": "8ae20b25",
   "metadata": {},
   "source": [
    "https://qiskit.org/ecosystem/machine-learning/stubs/qiskit_machine_learning.kernels.BaseKernel.html#qiskit_machine_learning.kernels.BaseKernel\n",
    "\n",
    "https://qiskit.org/documentation/stable/0.24/tutorials/machine_learning/01_qsvm_classification.html\n",
    "\n",
    "https://qiskit.org/ecosystem/machine-learning/tutorials/03_quantum_kernel.html\n",
    "\n",
    "https://qiskit.org/ecosystem/machine-learning/tutorials/08_quantum_kernel_trainer.html\n",
    "\n",
    "https://www.google.com/search?client=safari&rls=en&q=create+a+quantum+kernel+for+qsvc&ie=UTF-8&oe=UTF-8\n",
    "\n",
    "https://qiskit.org/documentation/migration_guides/qi_migration.html"
   ]
  }
 ],
 "metadata": {
  "kernelspec": {
   "display_name": "Python 3 (ipykernel)",
   "language": "python",
   "name": "python3"
  },
  "language_info": {
   "codemirror_mode": {
    "name": "ipython",
    "version": 3
   },
   "file_extension": ".py",
   "mimetype": "text/x-python",
   "name": "python",
   "nbconvert_exporter": "python",
   "pygments_lexer": "ipython3",
   "version": "3.11.3"
  }
 },
 "nbformat": 4,
 "nbformat_minor": 5
}
